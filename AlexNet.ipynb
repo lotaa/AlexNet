{
  "nbformat": 4,
  "nbformat_minor": 0,
  "metadata": {
    "colab": {
      "name": "AlexNet.ipynb",
      "provenance": [],
      "collapsed_sections": [],
      "authorship_tag": "ABX9TyMx2AcmCxFQCfT63UsGUOyx",
      "include_colab_link": true
    },
    "kernelspec": {
      "name": "python3",
      "display_name": "Python 3"
    },
    "language_info": {
      "name": "python"
    },
    "accelerator": "GPU"
  },
  "cells": [
    {
      "cell_type": "markdown",
      "metadata": {
        "id": "view-in-github",
        "colab_type": "text"
      },
      "source": [
        "<a href=\"https://colab.research.google.com/github/lotaa/AI-platform-notesbook-/blob/master/AlexNet.ipynb\" target=\"_parent\"><img src=\"https://colab.research.google.com/assets/colab-badge.svg\" alt=\"Open In Colab\"/></a>"
      ]
    },
    {
      "cell_type": "markdown",
      "metadata": {
        "id": "z0VSmruMRyMd"
      },
      "source": [
        "**Import required Libraries**"
      ]
    },
    {
      "cell_type": "code",
      "metadata": {
        "id": "8FNAu1KUJv9f"
      },
      "source": [
        "import keras \n",
        "import tensorflow as tf\n",
        "from keras.models import Sequential\n",
        "from keras.layers import Dense, Activation, Dropout, Flatten, Conv2D, MaxPooling2D\n",
        "from keras.layers import BatchNormalization\n",
        "import numpy as np\n",
        "from keras.models import predict_classes"
      ],
      "execution_count": null,
      "outputs": []
    },
    {
      "cell_type": "markdown",
      "metadata": {
        "id": "Jq2gHqi5V4Ox"
      },
      "source": [
        "**Construct Architecture**"
      ]
    },
    {
      "cell_type": "code",
      "metadata": {
        "colab": {
          "base_uri": "https://localhost:8080/"
        },
        "id": "gj5YKT9NWF-k",
        "outputId": "0a780f05-84d0-401a-d183-4c7af4702c9b"
      },
      "source": [
        "np.random.seed(42)\n",
        "#Instantiate an empty model\n",
        "model = Sequential()\n",
        "#1st Convlutional Layer\n",
        "model.add(Conv2D(filters=96, input_shape = (32,32,3), kernel_size=(11,11), strides=(4,4), padding='same'))\n",
        "model.add(BatchNormalization())\n",
        "model.add(Activation('relu'))\n",
        "#Max Pooling \n",
        "model.add(MaxPooling2D(pool_size=(2,2), strides=(2,2), padding='same'))\n",
        "\n",
        "#2nd Convlutional Layer\n",
        "model.add(Conv2D(filters=256, kernel_size=(5,5), strides= (1,1), padding='same'))\n",
        "model.add(BatchNormalization())\n",
        "model.add(Activation('relu'))\n",
        "#Max Pooling\n",
        "model.add(MaxPooling2D(pool_size=(2,2), strides=(2,2), padding='same'))\n",
        "\n",
        "#3rd Convulational layer\n",
        "model.add(Conv2D(filters=384, kernel_size=(3,3), strides=(1,1), padding='same'))\n",
        "model.add(BatchNormalization())\n",
        "model.add(Activation('relu'))\n",
        "\n",
        "#4th Convulational Layer \n",
        "model.add(Conv2D(filters=384, kernel_size=(3,3), strides=(1,1), padding='same'))\n",
        "model.add(BatchNormalization())\n",
        "model.add(Activation('relu'))\n",
        "\n",
        "#5th Convulational layer \n",
        "model.add(Conv2D(filters=256, kernel_size=(3,3), strides=(1,1), padding='same'))\n",
        "model.add(BatchNormalization())\n",
        "model.add(Activation('relu'))\n",
        "\n",
        "#Max pooling \n",
        "model.add(MaxPooling2D(pool_size=(2,2), strides=(2,2),padding='same'))\n",
        "\n",
        "#passing it to a Fully connected layer\n",
        "model.add(Flatten())\n",
        "\n",
        "#1st Fully Connected Layer\n",
        "model.add(Dense(4096, input_shape=(32,32,3,)))\n",
        "model.add(BatchNormalization())\n",
        "model.add(Activation('relu'))\n",
        "#Add a Dropout to prevent overfitting\n",
        "model.add(Dropout(0.4))\n",
        "\n",
        "#2nd Fully Connected Layer \n",
        "model.add(Dense(4096))\n",
        "model.add(BatchNormalization())\n",
        "model.add(Activation('relu'))\n",
        "#Add Dropout\n",
        "model.add(Dropout(0.4))\n",
        "\n",
        "#3rd Fully Connected Layer \n",
        "model.add(Dense(1000))\n",
        "model.add(BatchNormalization())\n",
        "model.add(Activation('relu'))\n",
        "#add Dropout\n",
        "model.add(Dropout(0.4))\n",
        "\n",
        "#output Layer\n",
        "model.add(Dense(10))\n",
        "model.add(BatchNormalization())\n",
        "model.add(Activation('softmax'))\n",
        "model.summary()\n",
        "\n",
        "#Compile the model\n",
        "model.compile(loss=keras.losses.categorical_crossentropy, optimizer='adam', metrics = ['accuracy'])"
      ],
      "execution_count": null,
      "outputs": [
        {
          "output_type": "stream",
          "name": "stdout",
          "text": [
            "Model: \"sequential\"\n",
            "_________________________________________________________________\n",
            " Layer (type)                Output Shape              Param #   \n",
            "=================================================================\n",
            " conv2d (Conv2D)             (None, 8, 8, 96)          34944     \n",
            "                                                                 \n",
            " batch_normalization (BatchN  (None, 8, 8, 96)         384       \n",
            " ormalization)                                                   \n",
            "                                                                 \n",
            " activation (Activation)     (None, 8, 8, 96)          0         \n",
            "                                                                 \n",
            " max_pooling2d (MaxPooling2D  (None, 4, 4, 96)         0         \n",
            " )                                                               \n",
            "                                                                 \n",
            " conv2d_1 (Conv2D)           (None, 4, 4, 256)         614656    \n",
            "                                                                 \n",
            " batch_normalization_1 (Batc  (None, 4, 4, 256)        1024      \n",
            " hNormalization)                                                 \n",
            "                                                                 \n",
            " activation_1 (Activation)   (None, 4, 4, 256)         0         \n",
            "                                                                 \n",
            " max_pooling2d_1 (MaxPooling  (None, 2, 2, 256)        0         \n",
            " 2D)                                                             \n",
            "                                                                 \n",
            " conv2d_2 (Conv2D)           (None, 2, 2, 384)         885120    \n",
            "                                                                 \n",
            " batch_normalization_2 (Batc  (None, 2, 2, 384)        1536      \n",
            " hNormalization)                                                 \n",
            "                                                                 \n",
            " activation_2 (Activation)   (None, 2, 2, 384)         0         \n",
            "                                                                 \n",
            " conv2d_3 (Conv2D)           (None, 2, 2, 384)         1327488   \n",
            "                                                                 \n",
            " batch_normalization_3 (Batc  (None, 2, 2, 384)        1536      \n",
            " hNormalization)                                                 \n",
            "                                                                 \n",
            " activation_3 (Activation)   (None, 2, 2, 384)         0         \n",
            "                                                                 \n",
            " conv2d_4 (Conv2D)           (None, 2, 2, 256)         884992    \n",
            "                                                                 \n",
            " batch_normalization_4 (Batc  (None, 2, 2, 256)        1024      \n",
            " hNormalization)                                                 \n",
            "                                                                 \n",
            " activation_4 (Activation)   (None, 2, 2, 256)         0         \n",
            "                                                                 \n",
            " max_pooling2d_2 (MaxPooling  (None, 1, 1, 256)        0         \n",
            " 2D)                                                             \n",
            "                                                                 \n",
            " flatten (Flatten)           (None, 256)               0         \n",
            "                                                                 \n",
            " dense (Dense)               (None, 4096)              1052672   \n",
            "                                                                 \n",
            " batch_normalization_5 (Batc  (None, 4096)             16384     \n",
            " hNormalization)                                                 \n",
            "                                                                 \n",
            " activation_5 (Activation)   (None, 4096)              0         \n",
            "                                                                 \n",
            " dropout (Dropout)           (None, 4096)              0         \n",
            "                                                                 \n",
            " dense_1 (Dense)             (None, 4096)              16781312  \n",
            "                                                                 \n",
            " batch_normalization_6 (Batc  (None, 4096)             16384     \n",
            " hNormalization)                                                 \n",
            "                                                                 \n",
            " activation_6 (Activation)   (None, 4096)              0         \n",
            "                                                                 \n",
            " dropout_1 (Dropout)         (None, 4096)              0         \n",
            "                                                                 \n",
            " dense_2 (Dense)             (None, 1000)              4097000   \n",
            "                                                                 \n",
            " batch_normalization_7 (Batc  (None, 1000)             4000      \n",
            " hNormalization)                                                 \n",
            "                                                                 \n",
            " activation_7 (Activation)   (None, 1000)              0         \n",
            "                                                                 \n",
            " dropout_2 (Dropout)         (None, 1000)              0         \n",
            "                                                                 \n",
            " dense_3 (Dense)             (None, 10)                10010     \n",
            "                                                                 \n",
            " batch_normalization_8 (Batc  (None, 10)               40        \n",
            " hNormalization)                                                 \n",
            "                                                                 \n",
            " activation_8 (Activation)   (None, 10)                0         \n",
            "                                                                 \n",
            "=================================================================\n",
            "Total params: 25,730,506\n",
            "Trainable params: 25,709,350\n",
            "Non-trainable params: 21,156\n",
            "_________________________________________________________________\n"
          ]
        }
      ]
    },
    {
      "cell_type": "code",
      "metadata": {
        "colab": {
          "base_uri": "https://localhost:8080/"
        },
        "id": "eQ-C0vLtBoye",
        "outputId": "79faf8d9-17ec-40d0-915c-ba448185a1c1"
      },
      "source": [
        "#keras library for CIFAR10 dataset\n",
        "from keras.datasets import cifar10\n",
        "(x_train, y_train), (x_test, y_test) = cifar10.load_data()\n",
        "\n",
        "#Train-Validation-test spilt \n",
        "from sklearn.model_selection import train_test_split\n",
        "x_train, x_val, y_train, y_val =train_test_split(x_train, y_train, test_size=0.3)\n",
        "\n",
        "#Dimension of the CIFAR10 datasets\n",
        "print((x_train.shape,y_train.shape))\n",
        "print((x_val.shape,y_val.shape))\n",
        "print((x_test.shape,y_test.shape))"
      ],
      "execution_count": null,
      "outputs": [
        {
          "output_type": "stream",
          "name": "stdout",
          "text": [
            "Downloading data from https://www.cs.toronto.edu/~kriz/cifar-10-python.tar.gz\n",
            "170500096/170498071 [==============================] - 2s 0us/step\n",
            "170508288/170498071 [==============================] - 2s 0us/step\n",
            "((35000, 32, 32, 3), (35000, 1))\n",
            "((15000, 32, 32, 3), (15000, 1))\n",
            "((10000, 32, 32, 3), (10000, 1))\n"
          ]
        }
      ]
    },
    {
      "cell_type": "code",
      "metadata": {
        "colab": {
          "base_uri": "https://localhost:8080/"
        },
        "id": "AubOrBVvLJI3",
        "outputId": "3c3e357a-353b-4c8c-a497-321d9249e804"
      },
      "source": [
        "#Ohot Encoding the labels\n",
        "from sklearn.utils.multiclass import unique_labels\n",
        "from keras.utils.np_utils import to_categorical\n",
        "\n",
        "#since we have 10 classes we should expect the shape[1] of y_train, y_val ,y_test\n",
        "y_test = to_categorical(y_test)\n",
        "y_val = to_categorical(y_val)\n",
        "y_train = to_categorical(y_train)\n",
        "\n",
        "#verifying the dimension after one hot encoding\n",
        "print((x_train.shape,y_train.shape))\n",
        "print((x_val.shape,y_val.shape))\n",
        "print((x_test.shape,y_test.shape))"
      ],
      "execution_count": null,
      "outputs": [
        {
          "output_type": "stream",
          "name": "stdout",
          "text": [
            "((35000, 32, 32, 3), (35000, 10))\n",
            "((15000, 32, 32, 3), (15000, 10))\n",
            "((10000, 32, 32, 3), (10000, 10))\n"
          ]
        }
      ]
    },
    {
      "cell_type": "code",
      "metadata": {
        "id": "bVcbqzlZQedi"
      },
      "source": [
        "# Image Data Augmentation\n",
        "from keras.preprocessing.image import ImageDataGenerator\n",
        "train_generator = ImageDataGenerator(rotation_range = 2, horizontal_flip =True, zoom_range =0.1)\n",
        "val_generator = ImageDataGenerator(rotation_range = 2, horizontal_flip =True, zoom_range =0.1)\n",
        "test_generator = ImageDataGenerator(rotation_range = 2, horizontal_flip =True, zoom_range =0.1)\n",
        "\n",
        "#Fitting the agumentation defined above to the data\n",
        "train_generator.fit(x_train)\n",
        "val_generator.fit(x_val)\n",
        "test_generator.fit(x_test)"
      ],
      "execution_count": null,
      "outputs": []
    },
    {
      "cell_type": "code",
      "metadata": {
        "id": "6idQrp5TVmET"
      },
      "source": [
        "#learning Rate AnneaLer\n",
        "from keras.callbacks import ReduceLROnPlateau\n",
        "lrr = ReduceLROnPlateau(monitor ='val_acc', factor =0.01 , patience =3 ,min_lr =1e-5 )"
      ],
      "execution_count": null,
      "outputs": []
    },
    {
      "cell_type": "code",
      "metadata": {
        "id": "53WV4KoaXI_f"
      },
      "source": [
        "#Define parameters\n",
        "batch_size =100\n",
        "epochs =5\n",
        "learn_rate =0.01"
      ],
      "execution_count": null,
      "outputs": []
    },
    {
      "cell_type": "code",
      "metadata": {
        "colab": {
          "base_uri": "https://localhost:8080/"
        },
        "id": "53YhH8ZqXeqQ",
        "outputId": "41b7ee6f-58b6-48d7-831f-92907bc3e19e"
      },
      "source": [
        "model.fit_generator(train_generator.flow(x_train, y_train, batch_size=batch_size), epochs=epochs, steps_per_epoch= x_train.shape[0]//batch_size, validation_data=val_generator.flow(x_val, y_val, batch_size=batch_size), validation_steps=250, callbacks=[lrr],verbose=1 )"
      ],
      "execution_count": null,
      "outputs": [
        {
          "output_type": "stream",
          "name": "stderr",
          "text": [
            "/usr/local/lib/python3.7/dist-packages/ipykernel_launcher.py:1: UserWarning: `Model.fit_generator` is deprecated and will be removed in a future version. Please use `Model.fit`, which supports generators.\n",
            "  \"\"\"Entry point for launching an IPython kernel.\n"
          ]
        },
        {
          "output_type": "stream",
          "name": "stdout",
          "text": [
            "Epoch 1/5\n",
            "350/350 [==============================] - ETA: 0s - loss: 1.6462 - accuracy: 0.4090WARNING:tensorflow:Your input ran out of data; interrupting training. Make sure that your dataset or generator can generate at least `steps_per_epoch * epochs` batches (in this case, 250 batches). You may need to use the repeat() function when building your dataset.\n",
            "WARNING:tensorflow:Learning rate reduction is conditioned on metric `val_acc` which is not available. Available metrics are: loss,accuracy,val_loss,val_accuracy,lr\n",
            "350/350 [==============================] - 68s 104ms/step - loss: 1.6462 - accuracy: 0.4090 - val_loss: 2.1120 - val_accuracy: 0.2708 - lr: 0.0010\n",
            "Epoch 2/5\n",
            "350/350 [==============================] - ETA: 0s - loss: 1.4040 - accuracy: 0.5049WARNING:tensorflow:Learning rate reduction is conditioned on metric `val_acc` which is not available. Available metrics are: loss,accuracy,lr\n",
            "350/350 [==============================] - 26s 74ms/step - loss: 1.4040 - accuracy: 0.5049 - lr: 0.0010\n",
            "Epoch 3/5\n",
            "350/350 [==============================] - ETA: 0s - loss: 1.2908 - accuracy: 0.5485WARNING:tensorflow:Learning rate reduction is conditioned on metric `val_acc` which is not available. Available metrics are: loss,accuracy,lr\n",
            "350/350 [==============================] - 26s 74ms/step - loss: 1.2908 - accuracy: 0.5485 - lr: 0.0010\n",
            "Epoch 4/5\n",
            "350/350 [==============================] - ETA: 0s - loss: 1.2029 - accuracy: 0.5831WARNING:tensorflow:Learning rate reduction is conditioned on metric `val_acc` which is not available. Available metrics are: loss,accuracy,lr\n",
            "350/350 [==============================] - 26s 73ms/step - loss: 1.2029 - accuracy: 0.5831 - lr: 0.0010\n",
            "Epoch 5/5\n",
            "350/350 [==============================] - ETA: 0s - loss: 1.1227 - accuracy: 0.6114WARNING:tensorflow:Learning rate reduction is conditioned on metric `val_acc` which is not available. Available metrics are: loss,accuracy,lr\n",
            "350/350 [==============================] - 26s 74ms/step - loss: 1.1227 - accuracy: 0.6114 - lr: 0.0010\n"
          ]
        },
        {
          "output_type": "execute_result",
          "data": {
            "text/plain": [
              "<keras.callbacks.History at 0x7fb6ee7b8990>"
            ]
          },
          "metadata": {},
          "execution_count": 8
        }
      ]
    },
    {
      "cell_type": "code",
      "metadata": {
        "id": "sSKjpp_aUZgC"
      },
      "source": [
        "#Define function for confusion matrix plot\n",
        "from sklearn.metrics import ConfusionMatrixDisplay\n",
        "from sklearn.metrics import confusion_matrix\n",
        "import matplotlib.pyplot as plt\n",
        "def plot_confusion_matrix(y_true, y_pred, classes, normalization=False, title=None, cmap=plt.cm.Blues):\n",
        "  if not title:\n",
        "    if normalization:\n",
        "      title ='Normalized confusion matrix'\n",
        "    else:\n",
        "      title ='confusion matrix, without Normalization'\n",
        "      \n",
        "\n",
        "  #compute confusion matrix \n",
        "  cm = confusion_matrix(y_true, y_pred)\n",
        "  if normalization:\n",
        "    cm =cm.astype('float') / cm.sum(axis=1)[:np.newaxis]\n",
        "    print(\"Normalized confusion matrix\")\n",
        "  else:\n",
        "      print(\"confusion matrix, without Normalization\")\n",
        "#print Confusion matrix\n",
        "  fig, ax = plt.subplots(figsize=(7,7))\n",
        "  img=ax.imshow(cm, interpolation='nearest', cmap=cmap)\n",
        "  ax.figure.colorbar(img, ax=ax)\n",
        "\n",
        "  # We want show all ticks\n",
        "  ax.set(#xticks=np.arange(cm.shape[1]),\n",
        "         #yticks=np.arange(cm.shape[0]),\n",
        "         #xtickslabels=classes, #ytickslabels=classes,\n",
        "         title =title,\n",
        "         ylabel='True label',\n",
        "         xlabel='predict label'\n",
        "  )\n",
        "#Rotate the tick labels and set their alignment \n",
        "  plt.setp(ax.get_xticklabels(),rotation=45, ha='right', rotation_mode=\"anchor\")\n",
        "\n",
        "# Loop over data dimensions and create text annotations\n",
        "  fmt='.2f' if normalization else 'd'\n",
        "  thresh =cm.max() /2.0\n",
        "  for i in range(cm.shape[0]):\n",
        "    for j in range(cm.shape[1]):\n",
        "      ax.text(j, i, format(cm[i,j], fmt),\n",
        "            ha =\"center\",va='center',color=\"white\" if cm[i,j] > thresh else \"black\"\n",
        "        )\n",
        "    fig.tight_layout()\n",
        "    return ax\n",
        "import numpy as np\n",
        "\n",
        "np.set_printoptions(precision=2)"
      ],
      "execution_count": null,
      "outputs": []
    },
    {
      "cell_type": "code",
      "metadata": {
        "id": "7m8rPQhHN7oU"
      },
      "source": [
        "model.save('model.h5')\n"
      ],
      "execution_count": null,
      "outputs": []
    },
    {
      "cell_type": "code",
      "metadata": {
        "id": "Y4uMOK5Q7nT1",
        "colab": {
          "base_uri": "https://localhost:8080/",
          "height": 549
        },
        "outputId": "c8f0b39a-08ab-4829-ecc4-cf81944dddc3"
      },
      "source": [
        "\n",
        "y_pred=model.predict(x_test) \n",
        "y_pred=np.argmax(y_pred,axis=1)\n",
        "#y_pred = model.predict_classes(np.array(x_test))\n",
        "\n",
        "#y_pred = np.round(y_pred).astype(int)\n",
        "y_true = np.argmax(y_test,axis=1)\n",
        "labels = [\"airplane\",\"automobile\",\"bird\",\"cat\",\"deer\", \"dog\", \"frog\", \"horse\", \"ship\", \"truck\"]\n",
        "\n",
        "cm = confusion_matrix(y_true, y_pred)\n",
        "\n",
        "plot_confusion_matrix(y_true, y_pred, classes=labels, title ='confusion matrix, without Normalization')"
      ],
      "execution_count": null,
      "outputs": [
        {
          "output_type": "stream",
          "name": "stdout",
          "text": [
            "confusion matrix, without Normalization\n"
          ]
        },
        {
          "output_type": "execute_result",
          "data": {
            "text/plain": [
              "<matplotlib.axes._subplots.AxesSubplot at 0x7fb6787be050>"
            ]
          },
          "metadata": {},
          "execution_count": 37
        },
        {
          "output_type": "display_data",
          "data": {
            "image/png": "[encoded data removed]",
            "text/plain": [
              "<Figure size 504x504 with 2 Axes>"
            ]
          },
          "metadata": {
            "needs_background": "light"
          }
        }
      ]
    },
    {
      "cell_type": "code",
      "metadata": {
        "colab": {
          "base_uri": "https://localhost:8080/"
        },
        "id": "Tyex5xQQZi3K",
        "outputId": "13168450-a042-4414-90da-b38b1d4aeba6"
      },
      "source": [
        "from sklearn.metrics import accuracy_score\n",
        "print(\"Accuracy_ Score\", accuracy_score(y_true,y_pred))"
      ],
      "execution_count": null,
      "outputs": [
        {
          "output_type": "stream",
          "name": "stdout",
          "text": [
            "Accuracy_ Score 0.4534\n"
          ]
        }
      ]
    }
  ]
}