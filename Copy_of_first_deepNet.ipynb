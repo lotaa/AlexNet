{
  "nbformat": 4,
  "nbformat_minor": 0,
  "metadata": {
    "colab": {
      "name": "Copy of first_deepNet.ipynb",
      "provenance": [],
      "authorship_tag": "ABX9TyMaJXEk5PiImLapseORxlBz",
      "include_colab_link": true
    },
    "kernelspec": {
      "name": "python3",
      "display_name": "Python 3"
    },
    "language_info": {
      "name": "python"
    },
    "accelerator": "GPU"
  },
  "cells": [
    {
      "cell_type": "markdown",
      "metadata": {
        "id": "view-in-github",
        "colab_type": "text"
      },
      "source": [
        "<a href=\"https://colab.research.google.com/github/lotaa/AI-platform-notesbook-/blob/master/Copy_of_first_deepNet.ipynb\" target=\"_parent\"><img src=\"https://colab.research.google.com/assets/colab-badge.svg\" alt=\"Open In Colab\"/></a>"
      ]
    },
    {
      "cell_type": "code",
      "metadata": {
        "colab": {
          "base_uri": "https://localhost:8080/"
        },
        "id": "OvMCk5Uqk7BT",
        "outputId": "ef749a09-16bb-469c-ee8b-58080a0c3118"
      },
      "source": [
        "import tensorflow as tf\n",
        "print(tf.__version__)"
      ],
      "execution_count": null,
      "outputs": [
        {
          "output_type": "stream",
          "name": "stdout",
          "text": [
            "2.6.0\n"
          ]
        }
      ]
    },
    {
      "cell_type": "code",
      "metadata": {
        "id": "nQRKHauumh27"
      },
      "source": [
        "from tensorflow import keras\n"
      ],
      "execution_count": null,
      "outputs": []
    },
    {
      "cell_type": "code",
      "metadata": {
        "id": "P-hNsRNDmx2c"
      },
      "source": [
        "mnist = tf.keras.datasets.fashion_mnist "
      ],
      "execution_count": null,
      "outputs": []
    },
    {
      "cell_type": "code",
      "metadata": {
        "colab": {
          "base_uri": "https://localhost:8080/"
        },
        "id": "aQgKgCwrnj-a",
        "outputId": "d8874f01-12e8-48f0-cc78-84cc9aa69dcd"
      },
      "source": [
        "(training_images, training_labels) ,(test_images,test_labels) =mnist.load_data()"
      ],
      "execution_count": null,
      "outputs": [
        {
          "output_type": "stream",
          "name": "stdout",
          "text": [
            "Downloading data from https://storage.googleapis.com/tensorflow/tf-keras-datasets/train-labels-idx1-ubyte.gz\n",
            "32768/29515 [=================================] - 0s 0us/step\n",
            "40960/29515 [=========================================] - 0s 0us/step\n",
            "Downloading data from https://storage.googleapis.com/tensorflow/tf-keras-datasets/train-images-idx3-ubyte.gz\n",
            "26427392/26421880 [==============================] - 1s 0us/step\n",
            "26435584/26421880 [==============================] - 1s 0us/step\n",
            "Downloading data from https://storage.googleapis.com/tensorflow/tf-keras-datasets/t10k-labels-idx1-ubyte.gz\n",
            "16384/5148 [===============================================================================================] - 0s 0us/step\n",
            "Downloading data from https://storage.googleapis.com/tensorflow/tf-keras-datasets/t10k-images-idx3-ubyte.gz\n",
            "4423680/4422102 [==============================] - 0s 0us/step\n",
            "4431872/4422102 [==============================] - 0s 0us/step\n"
          ]
        }
      ]
    },
    {
      "cell_type": "code",
      "metadata": {
        "id": "LJlrcvXao8yR"
      },
      "source": [
        "class_names = ['T-shirt/top', 'tourser', 'pullover', 'Dress', 'Coat', 'Sandel', 'Shirt', 'Sneaker', 'Bag', 'Ankel boot']"
      ],
      "execution_count": null,
      "outputs": []
    },
    {
      "cell_type": "code",
      "metadata": {
        "colab": {
          "base_uri": "https://localhost:8080/"
        },
        "id": "Y7VtC6N5s-da",
        "outputId": "6caebb67-5b48-42e5-d3d5-5f3961c913ca"
      },
      "source": [
        "training_images.shape"
      ],
      "execution_count": null,
      "outputs": [
        {
          "output_type": "execute_result",
          "data": {
            "text/plain": [
              "(60000, 28, 28)"
            ]
          },
          "metadata": {},
          "execution_count": 7
        }
      ]
    },
    {
      "cell_type": "code",
      "metadata": {
        "colab": {
          "base_uri": "https://localhost:8080/"
        },
        "id": "sMaoQIlgtSEf",
        "outputId": "8afb12d0-23d1-4643-bde9-e00399446978"
      },
      "source": [
        "training_labels.shape"
      ],
      "execution_count": null,
      "outputs": [
        {
          "output_type": "execute_result",
          "data": {
            "text/plain": [
              "(60000,)"
            ]
          },
          "metadata": {},
          "execution_count": 9
        }
      ]
    },
    {
      "cell_type": "markdown",
      "metadata": {
        "id": "VS5vMRxPw5M-"
      },
      "source": [
        "**to show the firt image**"
      ]
    },
    {
      "cell_type": "code",
      "metadata": {
        "colab": {
          "base_uri": "https://localhost:8080/",
          "height": 265
        },
        "id": "ZbUvocU4w4qw",
        "outputId": "a273130f-30ed-4608-b938-1783dc937dc4"
      },
      "source": [
        "import matplotlib.pyplot as plt\n",
        "plt.figure()\n",
        "plt.imshow(training_images[0])\n",
        "plt.colorbar()\n",
        "plt.grid(False)\n",
        "plt.show()"
      ],
      "execution_count": null,
      "outputs": [
        {
          "output_type": "display_data",
          "data": {
            "image/png": "[encoded data removed]",
            "text/plain": [
              "<Figure size 432x288 with 2 Axes>"
            ]
          },
          "metadata": {
            "needs_background": "light"
          }
        }
      ]
    },
    {
      "cell_type": "markdown",
      "metadata": {
        "id": "wKewDO2Lv3lF"
      },
      "source": [
        "**Normalization** "
      ]
    },
    {
      "cell_type": "code",
      "metadata": {
        "id": "gY__6Hc5wGXx"
      },
      "source": [
        "training_images = training_images/255.0\n",
        "test_images = test_images/255.0"
      ],
      "execution_count": null,
      "outputs": []
    },
    {
      "cell_type": "markdown",
      "metadata": {
        "id": "-zSsN1XDwmUH"
      },
      "source": [
        "**To show dataset**"
      ]
    },
    {
      "cell_type": "code",
      "metadata": {
        "colab": {
          "base_uri": "https://localhost:8080/",
          "height": 589
        },
        "id": "VdMv-nCtwkI2",
        "outputId": "d5ae4b44-70ec-4163-8d9d-22c5b5085568"
      },
      "source": [
        "plt.figure(figsize=(10,10))\n",
        "for i in range(25):\n",
        "  plt.subplot(5,5,i+1)\n",
        "  plt.xticks([])\n",
        "  plt.yticks([])\n",
        "  plt.grid(False)\n",
        "  plt.imshow(training_images[i], cmap=plt.cm.binary)\n",
        "  plt.xlabel(class_names[training_labels[i]])\n",
        "plt.show()"
      ],
      "execution_count": null,
      "outputs": [
        {
          "output_type": "display_data",
          "data": {
            "image/png": "[encoded data removed]",
            "text/plain": [
              "<Figure size 720x720 with 25 Axes>"
            ]
          },
          "metadata": {}
        }
      ]
    },
    {
      "cell_type": "markdown",
      "metadata": {
        "id": "4_MIhsmg4d5N"
      },
      "source": [
        "**Design A 3 layer neruel net **\n",
        "\n",
        "\n",
        "1.   input layer\n",
        "2.   hidden layer\n",
        "3.   output layer\n",
        "\n"
      ]
    },
    {
      "cell_type": "code",
      "metadata": {
        "colab": {
          "base_uri": "https://localhost:8080/"
        },
        "id": "yVPqa3qR4dFy",
        "outputId": "6fb2cb38-35d9-42fa-ef3b-cfe38bc44996"
      },
      "source": [
        "model = keras.Sequential(\n",
        "    [\n",
        "     keras.layers.Flatten(input_shape=(28,28)),\n",
        "     keras.layers.Dense(128,activation = 'relu'),\n",
        "     keras.layers.Dense(10,activation = 'softmax') \n",
        "    ]\n",
        ")\n",
        "model.compile(\n",
        "    optimizer ='adam',\n",
        "    loss = 'sparse_categorical_crossentropy',\n",
        "    metrics = ['accuracy']\n",
        ")\n",
        "model.fit(training_images,training_labels,epochs =10)"
      ],
      "execution_count": null,
      "outputs": [
        {
          "output_type": "stream",
          "name": "stdout",
          "text": [
            "Epoch 1/10\n",
            "1875/1875 [==============================] - 7s 2ms/step - loss: 1.0683 - accuracy: 0.6704\n",
            "Epoch 2/10\n",
            "1875/1875 [==============================] - 4s 2ms/step - loss: 0.6287 - accuracy: 0.7726\n",
            "Epoch 3/10\n",
            "1875/1875 [==============================] - 4s 2ms/step - loss: 0.5527 - accuracy: 0.8030\n",
            "Epoch 4/10\n",
            "1875/1875 [==============================] - 4s 2ms/step - loss: 0.5107 - accuracy: 0.8195\n",
            "Epoch 5/10\n",
            "1875/1875 [==============================] - 4s 2ms/step - loss: 0.4834 - accuracy: 0.8289\n",
            "Epoch 6/10\n",
            "1875/1875 [==============================] - 4s 2ms/step - loss: 0.4642 - accuracy: 0.8364\n",
            "Epoch 7/10\n",
            "1875/1875 [==============================] - 4s 2ms/step - loss: 0.4498 - accuracy: 0.8411\n",
            "Epoch 8/10\n",
            "1875/1875 [==============================] - 4s 2ms/step - loss: 0.4385 - accuracy: 0.8454\n",
            "Epoch 9/10\n",
            "1875/1875 [==============================] - 4s 2ms/step - loss: 0.4293 - accuracy: 0.8480\n",
            "Epoch 10/10\n",
            "1875/1875 [==============================] - 4s 2ms/step - loss: 0.4219 - accuracy: 0.8517\n"
          ]
        },
        {
          "output_type": "execute_result",
          "data": {
            "text/plain": [
              "<keras.callbacks.History at 0x7f6caf9ba850>"
            ]
          },
          "metadata": {},
          "execution_count": 19
        }
      ]
    },
    {
      "cell_type": "markdown",
      "metadata": {
        "id": "ZUU2QkEO8mgn"
      },
      "source": [
        "**Evaluate The Model on The Testing images**"
      ]
    },
    {
      "cell_type": "code",
      "metadata": {
        "colab": {
          "base_uri": "https://localhost:8080/"
        },
        "id": "cyA6eqdc8lkg",
        "outputId": "8a1bd975-ed0c-4c57-efbb-68b03eb0fd00"
      },
      "source": [
        "test_loss, test_acc = model.evaluate(test_images, test_labels, verbose =2)\n",
        "print('\\n Test accuracy', test_acc )"
      ],
      "execution_count": null,
      "outputs": [
        {
          "output_type": "stream",
          "name": "stdout",
          "text": [
            "313/313 - 1s - loss: 80.1064 - accuracy: 0.7022\n",
            "\n",
            " Test accuracy 0.7021999955177307\n"
          ]
        }
      ]
    },
    {
      "cell_type": "code",
      "metadata": {
        "colab": {
          "base_uri": "https://localhost:8080/"
        },
        "id": "K0y41Enx-eTg",
        "outputId": "b38e6412-810c-45a6-9304-ef153bc679e2"
      },
      "source": [
        "import numpy as np\n",
        "predict = model.predict(test_images)\n",
        "np.argmax(predict[0])"
      ],
      "execution_count": null,
      "outputs": [
        {
          "output_type": "execute_result",
          "data": {
            "text/plain": [
              "9"
            ]
          },
          "metadata": {},
          "execution_count": 22
        }
      ]
    }
  ]
}